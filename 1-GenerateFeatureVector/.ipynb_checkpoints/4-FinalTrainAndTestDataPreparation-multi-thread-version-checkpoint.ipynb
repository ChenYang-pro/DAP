{
 "cells": [
  {
   "cell_type": "markdown",
   "metadata": {},
   "source": [
    "## Final Data Preparation\n",
    "\n",
    "This notebook creates sample entries for different cities, and also performs __negative sampling__. "
   ]
  },
  {
   "cell_type": "code",
   "execution_count": 1,
   "metadata": {},
   "outputs": [],
   "source": [
    "import pandas as pd\n",
    "import numpy as np\n",
    "\n",
    "import random\n",
    "import os\n",
    "import sys\n",
    "import psutil\n",
    "\n",
    "import matplotlib\n",
    "import matplotlib.pyplot as plt\n",
    "import math\n",
    "from multiprocessing import cpu_count,Pool \n",
    "import multiprocessing\n",
    "from sklearn.preprocessing import LabelEncoder\n",
    "from sklearn.preprocessing import OneHotEncoder\n",
    "\n",
    "from sklearn.preprocessing import MinMaxScaler\n",
    "from sklearn.preprocessing import StandardScaler\n",
    "from sklearn.preprocessing import OneHotEncoder\n",
    "\n",
    "import pickle\n"
   ]
  },
  {
   "cell_type": "code",
   "execution_count": 2,
   "metadata": {},
   "outputs": [],
   "source": [
    "# # Loading some necessary files \n",
    "f = open(\"geo_vect_dict.pkl\",\"rb\")\n",
    "geohash_dict = pickle.load(f)\n",
    "f.close()\n",
    "\n",
    "f = open(\"geo_dict.pkl\",\"rb\")\n",
    "geo_dict = pickle.load(f)\n",
    "f.close()\n",
    "\n",
    "f = open(\"NLP_vect_dict.pkl\",\"rb\")\n",
    "NLP_dict = pickle.load(f)\n",
    "f.close()"
   ]
  },
  {
   "cell_type": "code",
   "execution_count": 3,
   "metadata": {},
   "outputs": [],
   "source": [
    "# # Helper functions for the parallel computing \n",
    "\n",
    "cores = cpu_count() #Number of CPU cores on your system\n",
    "partitions = cores\n",
    "\n",
    "class WithExtraArgs(object):\n",
    "     def __init__(self, func, **args):\n",
    "         self.func = func\n",
    "         self.args = args\n",
    "     def __call__(self, df):\n",
    "         return self.func(df, **self.args)\n",
    "\n",
    "def applyParallel(data, func,pool,partition, kwargs):\n",
    "     data_split = [data[i:i + partition] for i in range(0, len(data), partition)]\n",
    "     #data_split = np.array_split(data, min(partitions,data.shape[0]))\n",
    "     data =pool.map(WithExtraArgs(func, **kwargs), data_split)\n",
    "     #data = pd.concat(pool.map(WithExtraArgs(func, **kwargs), data_split))\n",
    "     return data\n",
    "\n",
    "def parallelize(data, func,pool,partition):\n",
    "     data_split = [data[i:i + partition] for i in range(0, len(data), partition)]\n",
    "     #data_split = np.array_split(data, partitions)\n",
    "     data =pool.map(func, data_split)\n",
    "     return data"
   ]
  },
  {
   "cell_type": "code",
   "execution_count": 4,
   "metadata": {
    "scrolled": true
   },
   "outputs": [],
   "source": [
    "def onhot_enoceder(train):\n",
    "     myEncoder = OneHotEncoder(sparse=False)\n",
    "     myEncoder.fit(train['HOD_cat'].values.reshape(-1, 1))\n",
    "\n",
    "     onehot_encode = pd.concat([train.reset_index().drop('HOD_cat',1),\n",
    "                 pd.DataFrame(myEncoder.transform(train['HOD_cat'].values.reshape(-1, 1)),\n",
    "                              columns=['HOD_en0','HOD_en1','HOD_en2','HOD_en3','HOD_en4'])], axis=1).reindex()\n",
    "     return onehot_encode.drop('index',1)"
   ]
  },
  {
   "cell_type": "code",
   "execution_count": 5,
   "metadata": {},
   "outputs": [],
   "source": [
    "def create_train_set_aug_geo(frame_list,geomap):\n",
    "    process_name = str(multiprocessing.current_process())\n",
    "    id = int(process_name.split(',')[0].split('-')[1])\n",
    "    print(\"process \",id,\" started\")\n",
    "    \n",
    "    X_train = []\n",
    "    y_train = []\n",
    "    print (\"process list with length of \",len(frame_list))\n",
    "    for frame in frame_list:\n",
    "        training_set = frame.values\n",
    "        #make sure there is unique geohash per frame\n",
    "        #print frame.Geohash.iloc[0]\n",
    "        geo_vec = geomap[frame.Geohash.iloc[0]]\n",
    "        geo_code = geo_dict[frame.Geohash.iloc[0]]\n",
    "        try:\n",
    "            NLP_code = NLP_dict[frame.Geohash.iloc[0]]\n",
    "        except:\n",
    "            NLP_code = np.zeros(100)\n",
    "        for i in range(8, training_set.shape[0]):\n",
    "            if training_set[i, 1] > 0 :\n",
    "                a = np.concatenate((training_set[i-8:i,4:].flatten(),geo_vec),axis=0)\n",
    "                a = np.concatenate((a,NLP_code),axis=0)\n",
    "                a = np.append(a, geo_code)\n",
    "                X_train.append(a)\n",
    "                y_train.append(1)#training_set[i, 1])\n",
    "                \n",
    "            elif random.uniform(0, 1) > 0.98:  # negative sampling for non-accident cases \n",
    "                a = np.concatenate((training_set[i-8:i,4:].flatten(),geo_vec),axis=0)\n",
    "                a = np.concatenate((a,NLP_code),axis=0)\n",
    "                a = np.append(a, geo_code)\n",
    "                X_train.append(a)\n",
    "                y_train.append(0)#training_set[i, 1])\n",
    "    return X_train, y_train"
   ]
  },
  {
   "cell_type": "code",
   "execution_count": 6,
   "metadata": {},
   "outputs": [],
   "source": [
    "def create_sequences(df,geohash_dict):\n",
    "    frame_list=[]\n",
    "    for idx, frame in df.groupby(df.Geohash):\n",
    "        frame_list.append(frame)\n",
    "    \n",
    "    pool = Pool(cores)\n",
    "    partition = int(np.ceil(float(len(frame_list))/partitions))    \n",
    "    train_set = applyParallel (frame_list,create_train_set_aug_geo,pool,partition,{'geomap':geohash_dict.copy()})\n",
    "    pool.close()\n",
    "    pool.join()\n",
    "    X_train = []\n",
    "    y_train = []\n",
    "    for set_ in train_set:\n",
    "        X_train.extend(set_[0])\n",
    "        y_train.extend(set_[1])\n",
    "\n",
    "    X_train, y_train = np.array(X_train), np.array(y_train)   \n",
    "    return X_train,y_train"
   ]
  },
  {
   "cell_type": "code",
   "execution_count": 7,
   "metadata": {},
   "outputs": [],
   "source": [
    "def train_data(filename):\n",
    "    df = pd.read_hdf(filename+'.h5',key='set3') # the .h5 file contains raw traffic, weather, time, and POI data \n",
    "    display(df.head())\n",
    "    df_normalize = df.copy()\n",
    "    train = df_normalize[df_normalize.TimeStep <= df_normalize.TimeStep.max()*5/6]\n",
    "    test = df_normalize[df_normalize.TimeStep > df_normalize.TimeStep.max()*5/6]\n",
    "    \n",
    "    \n",
    "\n",
    "    scaler = MinMaxScaler(feature_range=(0, 1))\n",
    "    scaler.fit(train.loc[:,'T-BrokenVehicle':]) \n",
    "    scaled_values = scaler.transform(train.loc[:,'T-BrokenVehicle':]) \n",
    "    train.loc[:,'T-BrokenVehicle':] = scaled_values\n",
    "    scaled_values = scaler.transform(test.loc[:,'T-BrokenVehicle':]) \n",
    "    test.loc[:,'T-BrokenVehicle':] = scaled_values\n",
    "    display(test.head())\n",
    "    \n",
    "    train = onhot_enoceder(train)\n",
    "    test = onhot_enoceder(test)\n",
    "    \n",
    "    display(test.head())\n",
    "    \n",
    "    X_train, y_train = create_sequences(train,geohash_dict)\n",
    "    X_test, y_test = create_sequences(test,geohash_dict)\n",
    "\n",
    "    # suppose that we have a directory named train_set; in that directory we create several files per city to ...\n",
    "    # ... represent its train and test data\n",
    "    np.save('train_set/X_train_'+filename,X_train) \n",
    "    print (X_train.shape)\n",
    "    np.save('train_set/y_train_'+filename,y_train)\n",
    "    print( y_train.shape)\n",
    "    np.save('train_set/X_test_'+filename,X_test)\n",
    "    print (X_test.shape)\n",
    "    np.save('train_set/y_test_'+filename,y_test)\n",
    "    print (y_test.shape)"
   ]
  },
  {
   "cell_type": "code",
   "execution_count": 8,
   "metadata": {},
   "outputs": [],
   "source": [
    "cities = ['Atlanta', 'Austin', 'Charlotte', 'Dallas', 'Houston', 'LosAngeles']\n",
    "\n",
    "for city in cities:\n",
    "    train_data(city) # creating training and test data for each city"
   ]
  },
  {
   "cell_type": "code",
   "execution_count": null,
   "metadata": {},
   "outputs": [],
   "source": []
  }
 ],
 "metadata": {
  "kernelspec": {
   "display_name": "Python 2.7 (Conda 5.2) [python/2.7 ]",
   "language": "python",
   "name": "sys_python27conda"
  },
  "language_info": {
   "codemirror_mode": {
    "name": "ipython",
    "version": 2
   },
   "file_extension": ".py",
   "mimetype": "text/x-python",
   "name": "python",
   "nbconvert_exporter": "python",
   "pygments_lexer": "ipython2",
   "version": "2.7.15"
  }
 },
 "nbformat": 4,
 "nbformat_minor": 2
}
